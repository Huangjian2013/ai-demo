{
  "nbformat": 4,
  "nbformat_minor": 0,
  "metadata": {
    "colab": {
      "provenance": [],
      "authorship_tag": "ABX9TyPIG0suHfVphHS2e8THpJ8L",
      "include_colab_link": true
    },
    "kernelspec": {
      "name": "python3",
      "display_name": "Python 3"
    },
    "language_info": {
      "name": "python"
    }
  },
  "cells": [
    {
      "cell_type": "markdown",
      "metadata": {
        "id": "view-in-github",
        "colab_type": "text"
      },
      "source": [
        "<a href=\"https://colab.research.google.com/github/Huangjian2013/ai-demo/blob/main/13-NodeParser.ipynb\" target=\"_parent\"><img src=\"https://colab.research.google.com/assets/colab-badge.svg\" alt=\"Open In Colab\"/></a>"
      ]
    },
    {
      "cell_type": "code",
      "execution_count": 10,
      "metadata": {
        "id": "7GdT_ya_4HyU"
      },
      "outputs": [],
      "source": [
        "!pip install llama-index --quiet"
      ]
    },
    {
      "cell_type": "code",
      "source": [
        "\n",
        "from google.colab import userdata\n",
        "from llama_index.core import Settings\n",
        "from llama_index.core import SimpleDirectoryReader,VectorStoreIndex\n",
        "from llama_index.core.node_parser import SimpleFileNodeParser, HTMLNodeParser"
      ],
      "metadata": {
        "id": "r2MyEgjX4osy"
      },
      "execution_count": 20,
      "outputs": []
    },
    {
      "cell_type": "code",
      "source": [
        "def print_nodes(nodes):\n",
        "  for node in nodes:\n",
        "    print(node)"
      ],
      "metadata": {
        "id": "drSnZh9V-3cI"
      },
      "execution_count": 17,
      "outputs": []
    },
    {
      "cell_type": "code",
      "source": [
        "node_reader = SimpleDirectoryReader(input_files=[\"sample_data/sample.pdf\"])\n",
        "documents = node_reader.load_data()\n",
        "parser = SimpleFileNodeParser()\n",
        "nodes = parser.get_nodes_from_documents(documents)\n",
        "\n",
        "print_nodes(nodes)"
      ],
      "metadata": {
        "colab": {
          "base_uri": "https://localhost:8080/"
        },
        "id": "WFdT0R-v4v1Y",
        "outputId": "f260c94e-445c-41de-e281-c3129bf7512f"
      },
      "execution_count": 19,
      "outputs": [
        {
          "output_type": "stream",
          "name": "stdout",
          "text": [
            "Node ID: c66db46a-cb13-4200-a3a6-2963bcef0174\n",
            "Text: 极越01    极越品牌旗下首款车型   极越01是极越品牌旗下首款车型，由吉利控股集团、百度集团联手打造。  [1-2]\n",
            "极越01配备了极具科技感的智能灯光系统，采用前全铝双叉臂 /后全铝H-Arm多连杆独立 悬架。 [15]极越01基于吉利\n",
            "SEA浩瀚架构打造， 拥有 3000mm 轴距， 风阻系数低至 0.249cd， 后排座椅放倒空间达 2161L，最快零百加速仅 3.8秒。\n",
            "[19]  2023年9月19日，极越 01首批量产车在吉利杭州湾智慧工厂正式下线。  [4]10月27日， AI汽车机器人极越\n",
            "01正式上市，共推出极越 01 Max和极越01 Max Performance 两款配 置，售价分别为 24.99万起和33.99万起。\n",
            "[8]2024年4月15日，李彦宏...\n",
            "Node ID: 63fe2d36-6f9e-4a1e-b4bb-8a4b15642d41\n",
            "Text: 起和33.99万起。 [6-8]\n",
            "2024年4月15日15:30-16:00，百度创始人、董事长兼首席执行官李彦宏将空降极越直播 间，与极越 CEO夏一平共同开播。\n",
            "[11]2024 年4月15日，李彦宏与夏一平联合宣布推出 一项新的购车优惠政策 ——高阶智驾限时终身免费。  [12]\n",
            "2024年4月25日，极越宣布全新的 V1.5.0版本即将面向极越 01全量推送， PPA智驾将在 100个城市进行尝鲜体验。  [13]\n",
            "2024年7月31日消息，极越  01 汽车现获推  V1.7.0 版本更新，新版本对空调进行优化， 支持远程运行  30 分钟空调，\n",
            "PPA 智驾新增覆盖云南、黑龙江部分地区。  [22]  外观方面   播报  编辑  外观方面，极越 01采用了自主的设...\n"
          ]
        }
      ]
    },
    {
      "cell_type": "code",
      "source": [
        "node_reader = SimpleDirectoryReader(input_files=[\"sample_data/sample.html\"])\n",
        "documents = node_reader.load_data()\n",
        "parser = HTMLNodeParser()\n",
        "nodes = parser.get_nodes_from_documents(documents)\n",
        "\n",
        "print_nodes(nodes)"
      ],
      "metadata": {
        "colab": {
          "base_uri": "https://localhost:8080/"
        },
        "id": "LT6zEHZN9_zu",
        "outputId": "faea0725-2379-486f-b1ec-d8ef74c11c1d"
      },
      "execution_count": 21,
      "outputs": [
        {
          "output_type": "stream",
          "name": "stdout",
          "text": [
            "Node ID: 97e26483-3533-49b3-bf10-8d35be088ae9\n",
            "Text: 预约试驾 了解极越07 NEW ERAOF ROBOCAR INTELLIGENCEIN DESIGN\n",
            "*本页面所示极越07车型配置仅供参考，具体以实物车辆为准。 立即定购 了解极越01 NEW ERAOF ROBOCAR\n",
            "INTELLIGENCEIN DESIGN   *本页面所示极越01车型配置及功能仅供参考，部分非全系标配，请以实际交付为准。 预约试驾\n",
            "了解极越07 NEW ERAOF ROBOCAR INTELLIGENCEIN DESIGN\n",
            "*本页面所示极越07车型配置仅供参考，具体以实物车辆为准。 立即定购 了解极越01 NEW ERAOF ROBOCAR\n",
            "INTELLIGENCEIN DESIGN   *本页面所示极越01车型配置及功能仅供参考，部分非全系标配，请...\n",
            "Node ID: 5c482e6a-0410-4ba0-8972-c0353b704398\n",
            "Text: 硬实力才敢「真」智驾。\n",
            "Node ID: 7a80d1a7-0d78-4444-85e4-833d7f40d714\n",
            "Text: 懂你的才是「好」智舱。            AI大模型全面接入，全场景融合，全感官互动。自然交流，聪明懂你。\n",
            "了解更多详情 AI COCKPIT 智能座舱 * 所示为极越01车型配置、功能及界面，仅供参考 INSTANTLY UNDERSTOOD\n",
            "UPON SPEAKING 大模型接入 一说就懂③ SIMO 语音    EVERYTHING IN ONE GLANCE 全场景融合\n",
            "一目了然 3D 智驾地图    ULTRA-IMMERSIVE EXPERIENCE 全感官互动 一应俱全 全沉浸休闲舱\n",
            "全方位体验极越。 以用户体验为出发原点，为用户带来品质感体验，在个性突破的门店空间中打造有温度感的智能先锋⻔店。 查看全部门店\n",
            "NATIONAL STORE 全国...\n",
            "Node ID: 515b0d1d-b40a-4020-a7d4-ccc9be29b485\n",
            "Text: 全方位体验极越。\n",
            "Node ID: b1d4d5d1-4640-4a8e-b941-5de4b23c7478\n",
            "Text: 以用户体验为出发原点，为用户带来品质感体验，在个性突破的门店空间中打造有温度感的智能先锋⻔店。\n",
            "Node ID: b8376ba8-d0d7-45c5-97fa-54670494bef6\n",
            "Text: 专业高效保障你的移动服务。        围绕用户体验多维服务场景，构建科学完善的服务体系，为用户提供全方位的服务支持。\n",
            "ROBO SERVICE 极智服务 ENERGY 极越能源为智能生活续航     FINANCING 超低年费率金融服务 TRADE-IN\n",
            "安全便捷一站式官方置换     SERVICE 售后服务真诚专业 7*24h\n",
            "Node ID: 55056031-0795-4163-b752-07b75b5988a6\n",
            "Text: 专业高效保障你的移动服务。\n",
            "Node ID: d582f434-c4fc-43b7-aaae-9d7c5d9e0ac3\n",
            "Text: 围绕用户体验多维服务场景，构建科学完善的服务体系，为用户提供全方位的服务支持。\n",
            "Node ID: 1b513c1a-2222-4641-b916-d3452c47c462\n",
            "Text: 全球顶级设计大奖三冠王， 极越智美双全。\n",
            "Node ID: 05122f71-1b4b-4ae6-bfe2-77bb1a9b3dca\n",
            "Text: 斩获德国红点、iF、日本GOOD DESIGN三项设计大奖 ④ ，机器人美学为移动生活带来智慧之美。\n",
            "Node ID: 6f40b1f7-38d3-462e-a002-88c67203d227\n",
            "Text: ① 智能辅助驾驶功能的启用与升级，将受限于届时功能开放的城市及法律法规要求。功能无法替代驾驶员，无法应对所有交通、天气、路况及所\n",
            "有交通参与者，请勿过度依赖。驾驶员有责任时刻保持警惕，随时准备迅速接管掌控车辆，以确保安全驾驶。②\n",
            "预计2024年底在全国实现，具体时间以官方另行公布为准。③ 车内部分软硬件功能可通过 SIMO 语音调用。④\n",
            "极越01及其概念车荣获2023德国红点奖、2023iF设计大奖、2022GOOD DESIGN设计大奖。法律声明极越致力于不断改进和完善产品\n",
            "，车辆的配置和参数可能会有相应变化。我们会尽一切可能，确保信息的完整性和准确性；但因客观原因，例如供应链调整、法律法规变化、监管部门要求、不\n",
            "同人士对相关信息理解的不同、信息存在更新不及时等情况，实物车辆可能会与介绍信...\n",
            "Node ID: bf943756-546f-4202-9c29-342e64b681e1\n",
            "Text: © 2024 上海集度汽车有限公司 沪 ICP 备 2022004720 号-5 沪公网安备 31011402010262号\n",
            "营业执照 隐私&法律 维修技术信息\n",
            "Node ID: aa9e81f6-bedb-4bc8-b5cc-a107ca571b48\n",
            "Text:\n"
          ]
        }
      ]
    },
    {
      "cell_type": "code",
      "source": [
        "parser = HTMLNodeParser(tags=[\"a\"])\n",
        "nodes = parser.get_nodes_from_documents(documents)\n",
        "\n",
        "print_nodes(nodes)"
      ],
      "metadata": {
        "colab": {
          "base_uri": "https://localhost:8080/"
        },
        "id": "KeoYayIy_nU_",
        "outputId": "11821a61-1329-42f1-867d-de1f590ff676"
      },
      "execution_count": 22,
      "outputs": [
        {
          "output_type": "stream",
          "name": "stdout",
          "text": [
            "Node ID: e8b42e03-17bb-4ec4-b684-7c5adaefd440\n",
            "Text: 极越07 极越01 极越品牌 极越世界 关于我们 注册/登录 预约试驾  预约试驾 ROBOCAR 07 极越07\n",
            "ROBOCAR 01 极越01 BRAND 极越品牌 ROBO WORLD 极越世界 ABOUT US 关于我们 LOG IN 注册/登录\n",
            "预约试驾  预约试驾 了解极越07 立即定购 了解极越01\n",
            "我们致力于打造智能化领先的汽车机器人，以高阶智驾、智舱产品和创新数字化服务，为用户创造标杆级智能科技出行体验。 了解我们 了解更多详情\n",
            "了解更多详情 查看全部门店 ENERGY 极越能源为智能生活续航 FINANCING 超低年费率金融服务  沪 ICP 备\n",
            "2022004720 号-5 沪公网安备 31011402010262号 营业执照 隐私&法律 维修技术信息\n"
          ]
        }
      ]
    }
  ]
}
