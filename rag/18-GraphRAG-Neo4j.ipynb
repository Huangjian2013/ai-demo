{
  "nbformat": 4,
  "nbformat_minor": 0,
  "metadata": {
    "colab": {
      "provenance": [],
      "authorship_tag": "ABX9TyNC1k0BiiLYkK2Kp2A6R4Dq",
      "include_colab_link": true
    },
    "kernelspec": {
      "name": "python3",
      "display_name": "Python 3"
    },
    "language_info": {
      "name": "python"
    }
  },
  "cells": [
    {
      "cell_type": "markdown",
      "metadata": {
        "id": "view-in-github",
        "colab_type": "text"
      },
      "source": [
        "<a href=\"https://colab.research.google.com/github/Huangjian2013/ai-demo/blob/main/rag/18-GraphRAG-Neo4j.ipynb\" target=\"_parent\"><img src=\"https://colab.research.google.com/assets/colab-badge.svg\" alt=\"Open In Colab\"/></a>"
      ]
    },
    {
      "cell_type": "code",
      "execution_count": null,
      "metadata": {
        "id": "6fGQ0djDXRJX"
      },
      "outputs": [],
      "source": [
        "!pip install llama-index llama-index-graph-stores-neo4j --quiet\n"
      ]
    },
    {
      "cell_type": "code",
      "source": [
        "from llama_index.graph_stores.neo4j import Neo4jPropertyGraphStore\n",
        "from google.colab import userdata\n",
        "from llama_index.core import SimpleDirectoryReader, Document"
      ],
      "metadata": {
        "id": "X_UJW7ZSYuMD"
      },
      "execution_count": null,
      "outputs": []
    },
    {
      "cell_type": "code",
      "source": [
        "\n",
        "graph_store = Neo4jPropertyGraphStore(\n",
        "    username=userdata.get(\"NEO_USER_NAME\"),\n",
        "    password=userdata.get(\"NEO_PASSWORD\"),\n",
        "    url=userdata.get(\"NEO_URL\")\n",
        ")\n"
      ],
      "metadata": {
        "id": "h6xiOwOVXrv6"
      },
      "execution_count": null,
      "outputs": []
    }
  ]
}