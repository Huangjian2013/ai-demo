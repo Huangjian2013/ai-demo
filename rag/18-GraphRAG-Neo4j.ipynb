{
  "nbformat": 4,
  "nbformat_minor": 0,
  "metadata": {
    "colab": {
      "provenance": [],
      "authorship_tag": "ABX9TyN2pawddGIDCv4nqa+xTMrv",
      "include_colab_link": true
    },
    "kernelspec": {
      "name": "python3",
      "display_name": "Python 3"
    },
    "language_info": {
      "name": "python"
    }
  },
  "cells": [
    {
      "cell_type": "markdown",
      "metadata": {
        "id": "view-in-github",
        "colab_type": "text"
      },
      "source": [
        "<a href=\"https://colab.research.google.com/github/Huangjian2013/ai-demo/blob/main/rag/18-GraphRAG-Neo4j.ipynb\" target=\"_parent\"><img src=\"https://colab.research.google.com/assets/colab-badge.svg\" alt=\"Open In Colab\"/></a>"
      ]
    },
    {
      "cell_type": "code",
      "execution_count": null,
      "metadata": {
        "id": "6fGQ0djDXRJX"
      },
      "outputs": [],
      "source": [
        "!pip install llama-index llama-index-graph-stores-neo4j --quiet\n"
      ]
    },
    {
      "cell_type": "code",
      "source": [
        "from llama_index.graph_stores.neo4j import Neo4jPropertyGraphStore\n",
        "from google.colab import userdata\n",
        "from llama_index.core import SimpleDirectoryReader, Document\n",
        "from llama_index.core import PropertyGraphIndex\n",
        "from llama_index.embeddings.openai import OpenAIEmbedding\n",
        "from llama_index.llms.openai import OpenAI\n",
        "from llama_index.core.indices.property_graph import SimpleLLMPathExtractor"
      ],
      "metadata": {
        "id": "X_UJW7ZSYuMD"
      },
      "execution_count": null,
      "outputs": []
    },
    {
      "cell_type": "code",
      "source": [
        "graph_store = Neo4jPropertyGraphStore(\n",
        "    username=userdata.get(\"NEO_USER_NAME\"),\n",
        "    password=userdata.get(\"NEO_PASSWORD\"),\n",
        "    url=userdata.get(\"NEO_URL\")\n",
        ")\n"
      ],
      "metadata": {
        "id": "h6xiOwOVXrv6"
      },
      "execution_count": null,
      "outputs": []
    },
    {
      "cell_type": "code",
      "source": [
        "file_path = './sample_data/story.txt'\n",
        "with open(file_path, \"r\", encoding=\"utf-8\") as f:\n",
        "    content = f.read()\n",
        "\n",
        "# 将文件内容转换为 LlamaIndex 支持的 Document 对象\n",
        "documents = [Document(text=content)]"
      ],
      "metadata": {
        "id": "DizzpdjaZFV0"
      },
      "execution_count": null,
      "outputs": []
    },
    {
      "cell_type": "code",
      "source": [
        "index = PropertyGraphIndex.from_documents(\n",
        "    documents,\n",
        "    embed_model=OpenAIEmbedding(model_name=\"text-embedding-ada-002\"),\n",
        "    kg_extractors=[\n",
        "        SimpleLLMPathExtractor(\n",
        "            llm=OpenAI(model=\"gpt-3.5-turbo\", temperature=0.0, api_key=userdata.get('OPENAI_API_KEY'))\n",
        "        )\n",
        "    ],\n",
        "    property_graph_store=graph_store,\n",
        "    show_progress=True,\n",
        ")"
      ],
      "metadata": {
        "id": "gTFS8BVPZgbh"
      },
      "execution_count": null,
      "outputs": []
    },
    {
      "cell_type": "code",
      "source": [
        "retriever = index.as_retriever(\n",
        "    include_text=False,  # include source text in returned nodes, default True\n",
        ")\n",
        "\n",
        "nodes = retriever.retrieve(\"小镇里面都住着谁\")\n",
        "\n",
        "for node in nodes:\n",
        "    print(node.text)"
      ],
      "metadata": {
        "id": "eMWNUEQIZpEi"
      },
      "execution_count": null,
      "outputs": []
    },
    {
      "cell_type": "code",
      "source": [
        "query_engine = index.as_query_engine(include_text=True)\n",
        "\n",
        "response = query_engine.query(\"小镇里面都住着谁\")\n",
        "\n",
        "print(str(response))"
      ],
      "metadata": {
        "id": "kM_fuAyiZsFF"
      },
      "execution_count": null,
      "outputs": []
    }
  ]
}