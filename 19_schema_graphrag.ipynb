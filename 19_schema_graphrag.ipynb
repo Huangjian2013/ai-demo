{
  "nbformat": 4,
  "nbformat_minor": 0,
  "metadata": {
    "colab": {
      "provenance": [],
      "authorship_tag": "ABX9TyNsXqwIbKKGCGdiIa3jjuWX",
      "include_colab_link": true
    },
    "kernelspec": {
      "name": "python3",
      "display_name": "Python 3"
    },
    "language_info": {
      "name": "python"
    },
    "widgets": {
      "application/vnd.jupyter.widget-state+json": {
        "bdd3879fa44a4456b0a071b5c3a0903c": {
          "model_module": "@jupyter-widgets/controls",
          "model_name": "HBoxModel",
          "model_module_version": "1.5.0",
          "state": {
            "_dom_classes": [],
            "_model_module": "@jupyter-widgets/controls",
            "_model_module_version": "1.5.0",
            "_model_name": "HBoxModel",
            "_view_count": null,
            "_view_module": "@jupyter-widgets/controls",
            "_view_module_version": "1.5.0",
            "_view_name": "HBoxView",
            "box_style": "",
            "children": [
              "IPY_MODEL_9f60170a1ff74fceb1913e0bd64379b0",
              "IPY_MODEL_b948c8d36cdb450b9497f6d77ac2bbe0",
              "IPY_MODEL_054407bc90684aa8b9fa782d4deae8ce"
            ],
            "layout": "IPY_MODEL_4edb4ca3bebb4290a2db0ae461341739"
          }
        },
        "9f60170a1ff74fceb1913e0bd64379b0": {
          "model_module": "@jupyter-widgets/controls",
          "model_name": "HTMLModel",
          "model_module_version": "1.5.0",
          "state": {
            "_dom_classes": [],
            "_model_module": "@jupyter-widgets/controls",
            "_model_module_version": "1.5.0",
            "_model_name": "HTMLModel",
            "_view_count": null,
            "_view_module": "@jupyter-widgets/controls",
            "_view_module_version": "1.5.0",
            "_view_name": "HTMLView",
            "description": "",
            "description_tooltip": null,
            "layout": "IPY_MODEL_e0504b31d0db4b3f803012f533e36ac2",
            "placeholder": "​",
            "style": "IPY_MODEL_fd84bdfcb3624258940fa2aed4e24ad9",
            "value": "Parsing nodes: 100%"
          }
        },
        "b948c8d36cdb450b9497f6d77ac2bbe0": {
          "model_module": "@jupyter-widgets/controls",
          "model_name": "FloatProgressModel",
          "model_module_version": "1.5.0",
          "state": {
            "_dom_classes": [],
            "_model_module": "@jupyter-widgets/controls",
            "_model_module_version": "1.5.0",
            "_model_name": "FloatProgressModel",
            "_view_count": null,
            "_view_module": "@jupyter-widgets/controls",
            "_view_module_version": "1.5.0",
            "_view_name": "ProgressView",
            "bar_style": "success",
            "description": "",
            "description_tooltip": null,
            "layout": "IPY_MODEL_85db651252ec4412a1c7a4b998bcd8f8",
            "max": 1,
            "min": 0,
            "orientation": "horizontal",
            "style": "IPY_MODEL_0e1094892285401ab0840a3505f385cb",
            "value": 1
          }
        },
        "054407bc90684aa8b9fa782d4deae8ce": {
          "model_module": "@jupyter-widgets/controls",
          "model_name": "HTMLModel",
          "model_module_version": "1.5.0",
          "state": {
            "_dom_classes": [],
            "_model_module": "@jupyter-widgets/controls",
            "_model_module_version": "1.5.0",
            "_model_name": "HTMLModel",
            "_view_count": null,
            "_view_module": "@jupyter-widgets/controls",
            "_view_module_version": "1.5.0",
            "_view_name": "HTMLView",
            "description": "",
            "description_tooltip": null,
            "layout": "IPY_MODEL_4d572157acc541cf8bd669e3ea3ccbbe",
            "placeholder": "​",
            "style": "IPY_MODEL_fa91735775db476da08d72b32a792a55",
            "value": " 1/1 [00:00&lt;00:00, 25.76it/s]"
          }
        },
        "4edb4ca3bebb4290a2db0ae461341739": {
          "model_module": "@jupyter-widgets/base",
          "model_name": "LayoutModel",
          "model_module_version": "1.2.0",
          "state": {
            "_model_module": "@jupyter-widgets/base",
            "_model_module_version": "1.2.0",
            "_model_name": "LayoutModel",
            "_view_count": null,
            "_view_module": "@jupyter-widgets/base",
            "_view_module_version": "1.2.0",
            "_view_name": "LayoutView",
            "align_content": null,
            "align_items": null,
            "align_self": null,
            "border": null,
            "bottom": null,
            "display": null,
            "flex": null,
            "flex_flow": null,
            "grid_area": null,
            "grid_auto_columns": null,
            "grid_auto_flow": null,
            "grid_auto_rows": null,
            "grid_column": null,
            "grid_gap": null,
            "grid_row": null,
            "grid_template_areas": null,
            "grid_template_columns": null,
            "grid_template_rows": null,
            "height": null,
            "justify_content": null,
            "justify_items": null,
            "left": null,
            "margin": null,
            "max_height": null,
            "max_width": null,
            "min_height": null,
            "min_width": null,
            "object_fit": null,
            "object_position": null,
            "order": null,
            "overflow": null,
            "overflow_x": null,
            "overflow_y": null,
            "padding": null,
            "right": null,
            "top": null,
            "visibility": null,
            "width": null
          }
        },
        "e0504b31d0db4b3f803012f533e36ac2": {
          "model_module": "@jupyter-widgets/base",
          "model_name": "LayoutModel",
          "model_module_version": "1.2.0",
          "state": {
            "_model_module": "@jupyter-widgets/base",
            "_model_module_version": "1.2.0",
            "_model_name": "LayoutModel",
            "_view_count": null,
            "_view_module": "@jupyter-widgets/base",
            "_view_module_version": "1.2.0",
            "_view_name": "LayoutView",
            "align_content": null,
            "align_items": null,
            "align_self": null,
            "border": null,
            "bottom": null,
            "display": null,
            "flex": null,
            "flex_flow": null,
            "grid_area": null,
            "grid_auto_columns": null,
            "grid_auto_flow": null,
            "grid_auto_rows": null,
            "grid_column": null,
            "grid_gap": null,
            "grid_row": null,
            "grid_template_areas": null,
            "grid_template_columns": null,
            "grid_template_rows": null,
            "height": null,
            "justify_content": null,
            "justify_items": null,
            "left": null,
            "margin": null,
            "max_height": null,
            "max_width": null,
            "min_height": null,
            "min_width": null,
            "object_fit": null,
            "object_position": null,
            "order": null,
            "overflow": null,
            "overflow_x": null,
            "overflow_y": null,
            "padding": null,
            "right": null,
            "top": null,
            "visibility": null,
            "width": null
          }
        },
        "fd84bdfcb3624258940fa2aed4e24ad9": {
          "model_module": "@jupyter-widgets/controls",
          "model_name": "DescriptionStyleModel",
          "model_module_version": "1.5.0",
          "state": {
            "_model_module": "@jupyter-widgets/controls",
            "_model_module_version": "1.5.0",
            "_model_name": "DescriptionStyleModel",
            "_view_count": null,
            "_view_module": "@jupyter-widgets/base",
            "_view_module_version": "1.2.0",
            "_view_name": "StyleView",
            "description_width": ""
          }
        },
        "85db651252ec4412a1c7a4b998bcd8f8": {
          "model_module": "@jupyter-widgets/base",
          "model_name": "LayoutModel",
          "model_module_version": "1.2.0",
          "state": {
            "_model_module": "@jupyter-widgets/base",
            "_model_module_version": "1.2.0",
            "_model_name": "LayoutModel",
            "_view_count": null,
            "_view_module": "@jupyter-widgets/base",
            "_view_module_version": "1.2.0",
            "_view_name": "LayoutView",
            "align_content": null,
            "align_items": null,
            "align_self": null,
            "border": null,
            "bottom": null,
            "display": null,
            "flex": null,
            "flex_flow": null,
            "grid_area": null,
            "grid_auto_columns": null,
            "grid_auto_flow": null,
            "grid_auto_rows": null,
            "grid_column": null,
            "grid_gap": null,
            "grid_row": null,
            "grid_template_areas": null,
            "grid_template_columns": null,
            "grid_template_rows": null,
            "height": null,
            "justify_content": null,
            "justify_items": null,
            "left": null,
            "margin": null,
            "max_height": null,
            "max_width": null,
            "min_height": null,
            "min_width": null,
            "object_fit": null,
            "object_position": null,
            "order": null,
            "overflow": null,
            "overflow_x": null,
            "overflow_y": null,
            "padding": null,
            "right": null,
            "top": null,
            "visibility": null,
            "width": null
          }
        },
        "0e1094892285401ab0840a3505f385cb": {
          "model_module": "@jupyter-widgets/controls",
          "model_name": "ProgressStyleModel",
          "model_module_version": "1.5.0",
          "state": {
            "_model_module": "@jupyter-widgets/controls",
            "_model_module_version": "1.5.0",
            "_model_name": "ProgressStyleModel",
            "_view_count": null,
            "_view_module": "@jupyter-widgets/base",
            "_view_module_version": "1.2.0",
            "_view_name": "StyleView",
            "bar_color": null,
            "description_width": ""
          }
        },
        "4d572157acc541cf8bd669e3ea3ccbbe": {
          "model_module": "@jupyter-widgets/base",
          "model_name": "LayoutModel",
          "model_module_version": "1.2.0",
          "state": {
            "_model_module": "@jupyter-widgets/base",
            "_model_module_version": "1.2.0",
            "_model_name": "LayoutModel",
            "_view_count": null,
            "_view_module": "@jupyter-widgets/base",
            "_view_module_version": "1.2.0",
            "_view_name": "LayoutView",
            "align_content": null,
            "align_items": null,
            "align_self": null,
            "border": null,
            "bottom": null,
            "display": null,
            "flex": null,
            "flex_flow": null,
            "grid_area": null,
            "grid_auto_columns": null,
            "grid_auto_flow": null,
            "grid_auto_rows": null,
            "grid_column": null,
            "grid_gap": null,
            "grid_row": null,
            "grid_template_areas": null,
            "grid_template_columns": null,
            "grid_template_rows": null,
            "height": null,
            "justify_content": null,
            "justify_items": null,
            "left": null,
            "margin": null,
            "max_height": null,
            "max_width": null,
            "min_height": null,
            "min_width": null,
            "object_fit": null,
            "object_position": null,
            "order": null,
            "overflow": null,
            "overflow_x": null,
            "overflow_y": null,
            "padding": null,
            "right": null,
            "top": null,
            "visibility": null,
            "width": null
          }
        },
        "fa91735775db476da08d72b32a792a55": {
          "model_module": "@jupyter-widgets/controls",
          "model_name": "DescriptionStyleModel",
          "model_module_version": "1.5.0",
          "state": {
            "_model_module": "@jupyter-widgets/controls",
            "_model_module_version": "1.5.0",
            "_model_name": "DescriptionStyleModel",
            "_view_count": null,
            "_view_module": "@jupyter-widgets/base",
            "_view_module_version": "1.2.0",
            "_view_name": "StyleView",
            "description_width": ""
          }
        }
      }
    }
  },
  "cells": [
    {
      "cell_type": "markdown",
      "metadata": {
        "id": "view-in-github",
        "colab_type": "text"
      },
      "source": [
        "<a href=\"https://colab.research.google.com/github/Huangjian2013/ai-demo/blob/main/19_schema_graphrag.ipynb\" target=\"_parent\"><img src=\"https://colab.research.google.com/assets/colab-badge.svg\" alt=\"Open In Colab\"/></a>"
      ]
    },
    {
      "cell_type": "code",
      "execution_count": null,
      "metadata": {
        "id": "6fGQ0djDXRJX"
      },
      "outputs": [],
      "source": [
        "!pip install llama-index llama-index-graph-stores-neo4j --quiet\n"
      ]
    },
    {
      "cell_type": "code",
      "source": [
        "from llama_index.graph_stores.neo4j import Neo4jPropertyGraphStore\n",
        "from google.colab import userdata\n",
        "from llama_index.core import SimpleDirectoryReader, Document\n",
        "from llama_index.core import PropertyGraphIndex\n",
        "from llama_index.embeddings.openai import OpenAIEmbedding\n",
        "from llama_index.llms.openai import OpenAI\n",
        "from llama_index.core.indices.property_graph import SimpleLLMPathExtractor,SchemaLLMPathExtractor\n",
        "import nest_asyncio\n",
        "from typing import Literal\n",
        "import os\n",
        "\n",
        "import openai\n",
        "\n",
        "nest_asyncio.apply()\n",
        "openai.api_key=userdata.get('REAL_OPENAI_KEY')"
      ],
      "metadata": {
        "id": "X_UJW7ZSYuMD"
      },
      "execution_count": 12,
      "outputs": []
    },
    {
      "cell_type": "code",
      "source": [
        "graph_store = Neo4jPropertyGraphStore(\n",
        "    username=userdata.get(\"NEO_USER_NAME\"),\n",
        "    password=userdata.get(\"NEO_PASSWORD\"),\n",
        "    url=userdata.get(\"NEO_URL\")\n",
        ")\n"
      ],
      "metadata": {
        "id": "h6xiOwOVXrv6"
      },
      "execution_count": 4,
      "outputs": []
    },
    {
      "cell_type": "code",
      "source": [
        "file_path = './sample_data/story.txt'\n",
        "with open(file_path, \"r\", encoding=\"utf-8\") as f:\n",
        "    content = f.read()\n",
        "\n",
        "# 将文件内容转换为 LlamaIndex 支持的 Document 对象\n",
        "documents = [Document(text=content)]"
      ],
      "metadata": {
        "id": "DizzpdjaZFV0"
      },
      "execution_count": 6,
      "outputs": []
    },
    {
      "cell_type": "code",
      "source": [
        "entities = Literal[\"人物\", \"场所\", \"职业\"]\n",
        "relations = Literal[\n",
        "    \"男友\", \"女友\", \"单恋\", \"好感\", \"相亲\", \"老友\",\n",
        "    \"青梅竹马\", \"上级\", \"儿子\",\"女儿\",\n",
        "    \"职业是\", \"拥有\", \"属于\"]\n",
        "schema = {\n",
        "    \"人物\": [\"男友\", \"女友\", \"单恋\", \"好感\", \"相亲\", \"老友\",\n",
        "           \"青梅竹马\", \"上级\", \"儿子\", \"女儿\", \"职业是\", \"拥有\"],\n",
        "    \"场所\": [\"属于\"],\n",
        "    \"职业\": [],\n",
        " }\n",
        "\n",
        "\n",
        "kg_extractor = SchemaLLMPathExtractor(\n",
        "    llm=OpenAI(model=\"gpt-4\", temperature=0.0),\n",
        "    possible_entities=entities,\n",
        "    possible_relations=relations,\n",
        "    kg_validation_schema=schema,\n",
        "    strict=True,  # if false, allows values outside of spec\n",
        ")"
      ],
      "metadata": {
        "id": "Ei2L1ObkyZNX"
      },
      "execution_count": 13,
      "outputs": []
    },
    {
      "cell_type": "code",
      "source": [
        "index = PropertyGraphIndex.from_documents(\n",
        "    documents,\n",
        "    embed_model=OpenAIEmbedding(model_name=\"text-embedding-ada-002\"),\n",
        "    kg_extractors=[kg_extractor],\n",
        "    property_graph_store=graph_store,\n",
        "    show_progress=True,\n",
        ")"
      ],
      "metadata": {
        "colab": {
          "base_uri": "https://localhost:8080/",
          "height": 103,
          "referenced_widgets": [
            "bdd3879fa44a4456b0a071b5c3a0903c",
            "9f60170a1ff74fceb1913e0bd64379b0",
            "b948c8d36cdb450b9497f6d77ac2bbe0",
            "054407bc90684aa8b9fa782d4deae8ce",
            "4edb4ca3bebb4290a2db0ae461341739",
            "e0504b31d0db4b3f803012f533e36ac2",
            "fd84bdfcb3624258940fa2aed4e24ad9",
            "85db651252ec4412a1c7a4b998bcd8f8",
            "0e1094892285401ab0840a3505f385cb",
            "4d572157acc541cf8bd669e3ea3ccbbe",
            "fa91735775db476da08d72b32a792a55"
          ]
        },
        "id": "gTFS8BVPZgbh",
        "outputId": "d29078e2-0ad6-463d-f19d-ab1e8ba7cf05"
      },
      "execution_count": 14,
      "outputs": [
        {
          "output_type": "display_data",
          "data": {
            "text/plain": [
              "Parsing nodes:   0%|          | 0/1 [00:00<?, ?it/s]"
            ],
            "application/vnd.jupyter.widget-view+json": {
              "version_major": 2,
              "version_minor": 0,
              "model_id": "bdd3879fa44a4456b0a071b5c3a0903c"
            }
          },
          "metadata": {}
        },
        {
          "output_type": "stream",
          "name": "stderr",
          "text": [
            "Extracting paths from text with schema: 100%|██████████| 1/1 [00:32<00:00, 32.46s/it]\n",
            "Generating embeddings: 100%|██████████| 1/1 [00:00<00:00,  2.39it/s]\n",
            "Generating embeddings: 100%|██████████| 1/1 [00:00<00:00,  6.00it/s]\n"
          ]
        }
      ]
    },
    {
      "cell_type": "code",
      "source": [
        "retriever = index.as_retriever(\n",
        "    include_text=False,  # include source text in returned nodes, default True\n",
        ")\n",
        "\n",
        "nodes = retriever.retrieve(\"小镇里面的人物关系\")\n",
        "\n",
        "for node in nodes:\n",
        "    print(node.text)"
      ],
      "metadata": {
        "colab": {
          "base_uri": "https://localhost:8080/"
        },
        "id": "eMWNUEQIZpEi",
        "outputId": "f4aa9329-c1e6-486b-bddb-5fb2d14ad957"
      },
      "execution_count": 15,
      "outputs": [
        {
          "output_type": "stream",
          "name": "stdout",
          "text": [
            "小镇 -> 拥有 -> 林叔\n",
            "林叔 -> 职业是 -> 咖啡馆老板\n",
            "赵老板 -> 相亲 -> 吴昊\n",
            "丽莎 -> 女儿 -> 赵老板\n",
            "林叔 -> 儿子 -> 小林\n"
          ]
        }
      ]
    },
    {
      "cell_type": "code",
      "source": [
        "query_engine = index.as_query_engine(include_text=True)\n",
        "\n",
        "response = query_engine.query(\"小镇里面谁最有可能要结婚了？为什么？\")\n",
        "\n",
        "print(str(response))"
      ],
      "metadata": {
        "colab": {
          "base_uri": "https://localhost:8080/"
        },
        "id": "kM_fuAyiZsFF",
        "outputId": "12262b46-c994-4976-a83b-dc2ce0a06630"
      },
      "execution_count": 16,
      "outputs": [
        {
          "output_type": "stream",
          "name": "stdout",
          "text": [
            "丽莎最有可能要结婚了，因为她是镇上富商赵老板的女儿，赵老板一直在安排她和镇上另一位年轻有为的企业家吴昊相亲。\n"
          ]
        }
      ]
    }
  ]
}