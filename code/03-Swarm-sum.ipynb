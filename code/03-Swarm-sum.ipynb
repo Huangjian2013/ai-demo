{
  "nbformat": 4,
  "nbformat_minor": 0,
  "metadata": {
    "colab": {
      "provenance": [],
      "authorship_tag": "ABX9TyMu9DxV0Xuyy4FY7lQPJhjn",
      "include_colab_link": true
    },
    "kernelspec": {
      "name": "python3",
      "display_name": "Python 3"
    },
    "language_info": {
      "name": "python"
    }
  },
  "cells": [
    {
      "cell_type": "markdown",
      "metadata": {
        "id": "view-in-github",
        "colab_type": "text"
      },
      "source": [
        "<a href=\"https://colab.research.google.com/github/Huangjian2013/ai-demo/blob/main/code/03-Swarm-sum.ipynb\" target=\"_parent\"><img src=\"https://colab.research.google.com/assets/colab-badge.svg\" alt=\"Open In Colab\"/></a>"
      ]
    },
    {
      "cell_type": "code",
      "execution_count": null,
      "metadata": {
        "id": "ceKRiC2_HHTr"
      },
      "outputs": [],
      "source": [
        "!pip install git+https://github.com/openai/swarm.git --quiet\n"
      ]
    },
    {
      "cell_type": "code",
      "source": [
        "import openai\n",
        "from google.colab import userdata\n",
        "from swarm import Swarm, Agent\n",
        "\n",
        "\n",
        "openai.api_key = userdata.get('REAL_OPENAI_KEY')"
      ],
      "metadata": {
        "id": "qAHFs_Ffjhx7"
      },
      "execution_count": 8,
      "outputs": []
    },
    {
      "cell_type": "code",
      "source": [
        "\n",
        "client = Swarm(client=openai)\n",
        "\n",
        "\n",
        "def process_refund(item_id, reason=\"NOT SPECIFIED\"):\n",
        "    \"\"\"Refund an item. Refund an item. Make sure you have the item_id of the form item_... Ask for user confirmation before processing the refund.\"\"\"\n",
        "    print(f\"[mock] Refunding item {item_id} because {reason}...\")\n",
        "    return \"Success!\"\n",
        "\n",
        "\n",
        "def apply_discount():\n",
        "    \"\"\"Apply a discount to the user's cart.\"\"\"\n",
        "    print(\"[mock] Applying discount...\")\n",
        "    return \"Applied discount of 11%\"\n",
        "\n",
        "\n",
        "triage_agent = Agent(\n",
        "    name=\"Triage Agent\",\n",
        "    instructions=\"Determine which agent is best suited to handle the user's request, and transfer the conversation to that agent.\",\n",
        ")\n",
        "sales_agent = Agent(\n",
        "    name=\"Sales Agent\",\n",
        "    instructions=\"Be super enthusiastic about selling bees.\",\n",
        ")\n",
        "refunds_agent = Agent(\n",
        "    name=\"Refunds Agent\",\n",
        "    instructions=\"Help the user with a refund. If the reason is that it was too expensive, offer the user a refund code. If they insist, then process the refund.\",\n",
        "    functions=[process_refund, apply_discount],\n",
        ")\n",
        "\n",
        "\n",
        "def transfer_back_to_triage():\n",
        "    \"\"\"Call this function if a user is asking about a topic that is not handled by the current agent.\"\"\"\n",
        "    return triage_agent\n",
        "\n",
        "\n",
        "def transfer_to_sales():\n",
        "    return sales_agent\n",
        "\n",
        "\n",
        "def transfer_to_refunds():\n",
        "    return refunds_agent\n",
        "\n",
        "\n",
        "triage_agent.functions = [transfer_to_sales, transfer_to_refunds]\n",
        "sales_agent.functions.append(transfer_back_to_triage)\n",
        "refunds_agent.functions.append(transfer_back_to_triage)\n",
        "\n",
        "messages = []\n",
        "while True:\n",
        "    user = input(\"User: \")\n",
        "    if (user == \"exit\"): break\n",
        "    messages.append({\"role\": \"user\", \"content\": user})\n",
        "\n",
        "    response = client.run(\n",
        "        agent=triage_agent,\n",
        "        messages=messages,\n",
        "    )\n",
        "\n",
        "    print(response.messages[-1][\"content\"])"
      ],
      "metadata": {
        "id": "UfRGpY0NQ6AE",
        "outputId": "91d16b7d-afaa-4cd9-eb27-02d3e4960ee3",
        "colab": {
          "base_uri": "https://localhost:8080/"
        }
      },
      "execution_count": 10,
      "outputs": [
        {
          "name": "stdout",
          "output_type": "stream",
          "text": [
            "User: buy bees\n",
            "I don't have details about selling bees, but I can connect you with our sales team who can help you. Would you like me to do that?\n",
            "User: yes\n",
            "It seems you are interested in purchasing. I will connect you with our sales team for assistance. Please hold on.\n",
            "User: buy bees\n",
            "Are you ready to dive into the buzzing world of bees and unlock nature's magic right in your hands? Imagine your garden flourishing, your flowers blossoming like never before, and your very own honey supply - all with the help of these incredible pollinators! Our bees are not just a purchase; they are an investment into a sustainable future. \n",
            "\n",
            "Whether you're a seasoned beekeeper or just starting your bee journey, we've got the perfect hive partners for you! 🐝✨ \n",
            "\n",
            "Choose life, choose nature, choose bees! 🎉💚 How can I help you get started on this exciting adventure?\n",
            "User: too expensive\n",
            "I understand that you find the prices too high. Would you like to discuss any available discounts or payment options with our sales team?\n",
            "User: yes\n",
            "Are you interested in purchasing some bees but worried about the cost? Let me tell you, investing in bees is absolutely buzz-worthy!\n",
            "\n",
            "1. **Pollination Powerhouse:** Bees are incredible pollinators and can significantly increase the yield of your garden, farm, or orchard. This means more fruits, flowers, and crops for you!\n",
            "\n",
            "2. **Honey Production:** With bees, you get to enjoy fresh, natural honey straight from the hive. You might even start a small honey business!\n",
            "\n",
            "3. **Environmental Impact:** By keeping bees, you’re helping sustain the bee population, which is crucial for biodiversity and ecosystems.\n",
            "\n",
            "4. **Educational Value:** Maintaining a bee colony can be a fascinating learning experience for both children and adults.\n",
            "\n",
            "We have various options and packages to suit all budgets. Plus, consider the long-term benefits and yields from having your own bees. Let me know what you're looking for, and I'll help find the best solution within your budget! Buzz buzz! 🌼🍯🐝\n",
            "User: I want discount\n",
            "When it comes to buying bees, **Bee Enthusiasts Worldwide** is the place to be, and we're buzzing with excitement to offer you the bee-buying experience of a lifetime! 🐝✨\n",
            "\n",
            "Imagine your garden flourishing with the rich buzz of bees, harvesting golden honey sweet enough to make any toast sing, and being a vital part of sustaining our precious ecosystem. Sounds dreamy, right? But wait, it gets even better!\n",
            "\n",
            "While our bees are priceless, I'm here to help you find the sweetest deal. For a limited time, we have a special discount just for diligent bee connoisseurs like yourself. This offer is a hive-full of joy and savings wrapped in one!\n",
            "\n",
            "**Here’s what you get with our bees:**\n",
            "1. **Healthy Hives**: Our bees are thriving, buzzing with vitality, and ready to start pollinating!\n",
            "2. **Quality Guarantee**: We ensure our bees are top-notch and healthy—perfect for beekeeping newbies and seasoned apiarists alike.\n",
            "3. **Free Shipping**: Yes, you read it right! We'll deliver your buzzing friends straight to your doorstep.\n",
            "\n",
            "So, let's make this bee dream a reality. How many hives are we starting with to kick off your beekeeping journey? 🌼🍯✨\n",
            "User: exit\n"
          ]
        }
      ]
    }
  ]
}