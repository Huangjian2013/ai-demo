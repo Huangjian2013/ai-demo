{
  "nbformat": 4,
  "nbformat_minor": 0,
  "metadata": {
    "colab": {
      "provenance": [],
      "authorship_tag": "ABX9TyPBfirV3ADqHA3T6oqH5qdy",
      "include_colab_link": true
    },
    "kernelspec": {
      "name": "python3",
      "display_name": "Python 3"
    },
    "language_info": {
      "name": "python"
    }
  },
  "cells": [
    {
      "cell_type": "markdown",
      "metadata": {
        "id": "view-in-github",
        "colab_type": "text"
      },
      "source": [
        "<a href=\"https://colab.research.google.com/github/Huangjian2013/ai-demo/blob/main/code/03-Swarm-sum.ipynb\" target=\"_parent\"><img src=\"https://colab.research.google.com/assets/colab-badge.svg\" alt=\"Open In Colab\"/></a>"
      ]
    },
    {
      "cell_type": "code",
      "execution_count": null,
      "metadata": {
        "id": "ceKRiC2_HHTr"
      },
      "outputs": [],
      "source": [
        "!pip install git+https://github.com/openai/swarm.git --quiet\n"
      ]
    },
    {
      "cell_type": "code",
      "source": [
        "import openai\n",
        "from google.colab import userdata\n",
        "from swarm import Swarm, Agent\n",
        "\n",
        "\n",
        "openai.api_key = userdata.get('REAL_OPENAI_KEY')"
      ],
      "metadata": {
        "id": "qAHFs_Ffjhx7"
      },
      "execution_count": 8,
      "outputs": []
    },
    {
      "cell_type": "code",
      "source": [
        "client = Swarm(client=openai)\n",
        "\n",
        "\n",
        "def process_refund():\n",
        "    \"\"\"执行退款操作.\"\"\"\n",
        "    print(f\"[mock] 退款操作...\")\n",
        "    return \"成功!\"\n",
        "\n",
        "\n",
        "def apply_discount():\n",
        "    \"\"\"给用户打折.\"\"\"\n",
        "    print(\"[mock] 正在打折...\")\n",
        "    return \"帮用户的商品打了9折\"\n",
        "\n",
        "\n",
        "triage_agent = Agent(\n",
        "    name=\"中转智能体\",\n",
        "    instructions=\"确认用户的操作是什么，转移到对应的智能体去处理.\",\n",
        ")\n",
        "sales_agent = Agent(\n",
        "    name=\"销售智能体\",\n",
        "    instructions=\"非常热情地给用户介绍蜜蜂.\",\n",
        ")\n",
        "refunds_agent = Agent(\n",
        "    name=\"退款智能体\",\n",
        "    instructions=\"如果用户乐意，给用户提供折扣。否则走退款逻辑\",\n",
        "    functions=[process_refund, apply_discount],\n",
        ")\n",
        "\n",
        "\n",
        "def transfer_back_to_triage():\n",
        "    \"\"\"如果用户的回答和当前智能体没什么关系，转移到中转智能体去执行.\"\"\"\n",
        "    print(\"[转移智能体操作] --> triage_agent\")\n",
        "    return triage_agent\n",
        "\n",
        "\n",
        "def transfer_to_sales():\n",
        "    print(\"[转移智能体操作] --> sales_agent\")\n",
        "    return sales_agent\n",
        "\n",
        "\n",
        "def transfer_to_refunds():\n",
        "    print(\"[转移智能体操作] --> refunds_agent\")\n",
        "    return refunds_agent\n",
        "\n",
        "\n",
        "triage_agent.functions = [transfer_to_sales, transfer_to_refunds]\n",
        "sales_agent.functions.append(transfer_back_to_triage)\n",
        "refunds_agent.functions.append(transfer_back_to_triage)\n",
        "\n",
        "messages = []\n",
        "while True:\n",
        "    user = input(\"输入: \")\n",
        "    if (user == \"exit\"): break\n",
        "    messages.append({\"role\": \"user\", \"content\": user})\n",
        "\n",
        "    response = client.run(\n",
        "        agent=triage_agent,\n",
        "        messages=messages,\n",
        "    )\n",
        "\n",
        "    print(response.messages[-1][\"content\"])"
      ],
      "metadata": {
        "id": "UfRGpY0NQ6AE",
        "outputId": "78e86a54-5b03-49aa-bf27-d8018205574a",
        "colab": {
          "base_uri": "https://localhost:8080/"
        }
      },
      "execution_count": 18,
      "outputs": [
        {
          "name": "stdout",
          "output_type": "stream",
          "text": [
            "输入: 我要买蜜蜂\n",
            "[转移智能体操作] --> sales_agent\n",
            "蜜蜂是一种神奇而有趣的小生物！让我们来聊聊它们吧。\n",
            "\n",
            "蜜蜂不仅是辛勤的授粉者，还负责生产我们喜爱的蜂蜜。它们生活在蜜蜂群中，由一只蜂后、许多工蜂和少数雄蜂组成。每只小蜜蜂都有自己独特的职责，例如采集花蜜、保护蜂巢和哺育幼蜂。\n",
            "\n",
            "更有趣的是，蜂蜜不仅美味，而且富含多种营养，小小的一罐蜂蜜蕴藏着大自然的精华。无论是在早餐时用来涂抹面包，还是在茶中调和甜味，蜂蜜总能为你的生活增添一份甜美。\n",
            "\n",
            "如果真的有兴趣购买蜜蜂，一开始可能需要学习一些基本的养蜂知识，比如如何建设蜂巢、管理蜂群和收蜜等。这将是一个令人着迷且充满回报的过程。\n",
            "\n",
            "希望你和这些勤劳的小伙伴们相处愉快，有任何疑问都可以随时问我哦！🐝🍯\n",
            "输入: 我要退款\n",
            "[转移智能体操作] --> sales_agent\n",
            "[转移智能体操作] --> refunds_agent\n",
            "[mock] 退款操作...\n",
            "您的退款已经成功处理。\n",
            "输入: exit\n"
          ]
        }
      ]
    }
  ]
}